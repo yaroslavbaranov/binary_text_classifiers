{
 "cells": [
  {
   "cell_type": "code",
   "execution_count": null,
   "metadata": {
    "collapsed": true
   },
   "outputs": [],
   "source": [
    "import pandas as pd\n",
    "import numpy as np\n",
    "import pickle\n",
    "import os\n",
    "import keras\n",
    "import mailparser\n",
    "import glob\n",
    "from nltk.tokenize import word_tokenize\n",
    "from bs4 import BeautifulSoup\n",
    "from nltk.stem.snowball import *\n",
    "import re"
   ]
  },
  {
   "cell_type": "markdown",
   "metadata": {},
   "source": [
    "Function that makes prediction based on a given text string"
   ]
  },
  {
   "cell_type": "code",
   "execution_count": 274,
   "metadata": {},
   "outputs": [],
   "source": [
    "def classify_single_string(text1):\n",
    "    cleantext = BeautifulSoup(text1, \"lxml\").text\n",
    "    cleantext = re.sub(r'CORE_BUSINESS', \"\", cleantext)\n",
    "    cleantext = re.sub(r'CLOSE_PERSONAL', \"\", cleantext)\n",
    "    cleantext = re.sub(r'_.*', \"\", cleantext)\n",
    "    cleantext = re.sub(r'\\W+', ' ', cleantext)\n",
    "    cleantext = re.sub(r'\\d+', ' ', cleantext)\n",
    "    cleantext = [i.lower() for i in word_tokenize(cleantext) if len(i) > 1]\n",
    "    filtered_cleantext = \" \".join([stemmer(w) for w in cleantext if not w in stop_words])\n",
    "    single_string_df = pd.DataFrame({'text': [filtered_cleantext]})\n",
    "    X_single_test = transformer.transform(single_string_df.text)\n",
    "    model_prediction = model.predict_proba(X_single_test)\n",
    "    model_predicted_class = np.where(np.argmax(model_prediction[0]) == 1, 'business', 'personal').item()\n",
    "    business_score = np.round(model_prediction[0][1], 2)\n",
    "    personal_score = np.round(model_prediction[0][0], 2)    \n",
    "    result = 'Business score is {}\\npersonal score is {}'.format(business_score, personal_score)\n",
    "    print ('{} - predicted class is {}\\n\\n{}\\n'.format(text1, model_predicted_class, result))"
   ]
  },
  {
   "cell_type": "markdown",
   "metadata": {},
   "source": [
    "Function that makes prediction based on a given folder containing files with emails and returns dataframe with prediction results"
   ]
  },
  {
   "cell_type": "code",
   "execution_count": 275,
   "metadata": {},
   "outputs": [],
   "source": [
    "def classify_files_from_folder(files_path):\n",
    "    raw_data = []\n",
    "    for text_file in glob.glob(files_path):\n",
    "        mail = mailparser.parse_from_file(text_file)\n",
    "        text1 = mail.body\n",
    "        cleantext = BeautifulSoup(text1, \"lxml\").text\n",
    "        cleantext = re.sub(r'CORE_BUSINESS', \"\", cleantext)\n",
    "        cleantext = re.sub(r'CLOSE_PERSONAL', \"\", cleantext)\n",
    "        cleantext = re.sub(r'_.*', \"\", cleantext)\n",
    "        cleantext = re.sub(r'\\W+', ' ', cleantext)\n",
    "        cleantext = re.sub(r'\\d+', ' ', cleantext)\n",
    "        cleantext = [i.lower() for i in word_tokenize(cleantext) if len(i) > 1]\n",
    "        filtered_cleantext = \" \".join([stemmer(w) for w in cleantext if not w in stop_words])\n",
    "        raw_data.append({'filename': os.path.basename(text_file), 'cleaned_text': filtered_cleantext})\n",
    "\n",
    "    X_data_full = pd.DataFrame(raw_data)    \n",
    "    X_features = transformer.transform(X_data_full.cleaned_text)\n",
    "    predicted_data = model.predict(X_features)\n",
    "        \n",
    "    predicted_business_prob = predicted_data[:, 1]\n",
    "    predicted_personal_prob = predicted_data[:, 0]    \n",
    "    predicted_values = np.argmax(predicted_data, 1)\n",
    "    predicted_class_label = np.where(predicted_values == 1, 'business', 'personal')\n",
    "    \n",
    "    X_data_full = X_data_full.assign(business_prob = predicted_business_prob, \n",
    "                                     personal_prob = predicted_personal_prob, \n",
    "                                     class_label = predicted_class_label)\n",
    "    \n",
    "    return X_data_full[['filename', 'class_label', 'business_prob', 'personal_prob', 'cleaned_text']]"
   ]
  },
  {
   "cell_type": "code",
   "execution_count": 271,
   "metadata": {},
   "outputs": [],
   "source": [
    "stop_words = set(stopwords.words('english'))\n",
    "stemmer = SnowballStemmer('english').stem\n",
    "transformer = pickle.load(open('transformer_model.sav', 'rb'))\n",
    "model = keras.models.load_model('my_model.h5')"
   ]
  },
  {
   "cell_type": "markdown",
   "metadata": {},
   "source": [
    "You can specify path to folder with test emails here:"
   ]
  },
  {
   "cell_type": "code",
   "execution_count": 282,
   "metadata": {},
   "outputs": [],
   "source": [
    "\n",
    "test_files_path = '/insert_your_path_here/*'"
   ]
  },
  {
   "cell_type": "markdown",
   "metadata": {},
   "source": [
    "You can input your strings here:"
   ]
  },
  {
   "cell_type": "code",
   "execution_count": 283,
   "metadata": {},
   "outputs": [],
   "source": [
    "new_text_1 = 'Excuse me I will be late my revenue is down'\n",
    "new_text_2 = 'Hi bro what is about a cup of beer tonight?'\n"
   ]
  },
  {
   "cell_type": "code",
   "execution_count": 284,
   "metadata": {},
   "outputs": [
    {
     "name": "stdout",
     "output_type": "stream",
     "text": [
      "Excuse me I will be late my revenue is down - predicted class is business\n\nBusiness score is 0.9800000190734863\npersonal score is 0.019999999552965164\n\nHi bro what is about a cup of beer tonight? - predicted class is personal\n\nBusiness score is 0.009999999776482582\npersonal score is 0.9900000095367432\n\n"
     ]
    }
   ],
   "source": [
    "classify_single_string(new_text_1)\n",
    "classify_single_string(new_text_2)\n"
   ]
  },
  {
   "cell_type": "code",
   "execution_count": 277,
   "metadata": {
    "collapsed": false
   },
   "outputs": [
    {
     "data": {
      "text/html": [
       "<div>\n",
       "<style scoped>\n",
       "    .dataframe tbody tr th:only-of-type {\n",
       "        vertical-align: middle;\n",
       "    }\n",
       "\n",
       "    .dataframe tbody tr th {\n",
       "        vertical-align: top;\n",
       "    }\n",
       "\n",
       "    .dataframe thead th {\n",
       "        text-align: right;\n",
       "    }\n",
       "</style>\n",
       "<table border=\"1\" class=\"dataframe\">\n",
       "  <thead>\n",
       "    <tr style=\"text-align: right;\">\n",
       "      <th></th>\n",
       "      <th>filename</th>\n",
       "      <th>class_label</th>\n",
       "      <th>business_prob</th>\n",
       "      <th>personal_prob</th>\n",
       "      <th>cleaned_text</th>\n",
       "    </tr>\n",
       "  </thead>\n",
       "  <tbody>\n",
       "    <tr>\n",
       "      <th>0</th>\n",
       "      <td>maildir_allen-p_inbox_84</td>\n",
       "      <td>business</td>\n",
       "      <td>0.999561</td>\n",
       "      <td>0.000439</td>\n",
       "      <td>purpos acceler distribut psa singl sum distrib...</td>\n",
       "    </tr>\n",
       "    <tr>\n",
       "      <th>1</th>\n",
       "      <td>10</td>\n",
       "      <td>personal</td>\n",
       "      <td>0.014198</td>\n",
       "      <td>0.985802</td>\n",
       "      <td>rick offic mail address mjacobson fce com send...</td>\n",
       "    </tr>\n",
       "    <tr>\n",
       "      <th>2</th>\n",
       "      <td>maildir_allen-p_inbox_23</td>\n",
       "      <td>business</td>\n",
       "      <td>0.998114</td>\n",
       "      <td>0.001886</td>\n",
       "      <td>three deal fax let know interest thank jeff sm...</td>\n",
       "    </tr>\n",
       "    <tr>\n",
       "      <th>3</th>\n",
       "      <td>14</td>\n",
       "      <td>personal</td>\n",
       "      <td>0.018104</td>\n",
       "      <td>0.981896</td>\n",
       "      <td>phone work day great see rick ami ben jonathan...</td>\n",
       "    </tr>\n",
       "    <tr>\n",
       "      <th>4</th>\n",
       "      <td>8</td>\n",
       "      <td>personal</td>\n",
       "      <td>0.033977</td>\n",
       "      <td>0.966023</td>\n",
       "      <td>entrust forward anyon origin messag todd mrien...</td>\n",
       "    </tr>\n",
       "  </tbody>\n",
       "</table>\n",
       "</div>"
      ],
      "text/plain": [
       "<div>\n",
       "<style scoped>\n",
       "    .dataframe tbody tr th:only-of-type {\n",
       "        vertical-align: middle;\n",
       "    }\n",
       "\n",
       "    .dataframe tbody tr th {\n",
       "        vertical-align: top;\n",
       "    }\n",
       "\n",
       "    .dataframe thead th {\n",
       "        text-align: right;\n",
       "    }\n",
       "</style>\n",
       "<table border=\"1\" class=\"dataframe\">\n",
       "  <thead>\n",
       "    <tr style=\"text-align: right;\">\n",
       "      <th></th>\n",
       "      <th>filename</th>\n",
       "      <th>class_label</th>\n",
       "      <th>business_prob</th>\n",
       "      <th>personal_prob</th>\n",
       "      <th>cleaned_text</th>\n",
       "    </tr>\n",
       "  </thead>\n",
       "  <tbody>\n",
       "    <tr>\n",
       "      <th>0</th>\n",
       "      <td>maildir_allen-p_inbox_84</td>\n",
       "      <td>business</td>\n",
       "      <td>0.999561</td>\n",
       "      <td>0.000439</td>\n",
       "      <td>purpos acceler distribut psa singl sum distrib...</td>\n",
       "    </tr>\n",
       "    <tr>\n",
       "      <th>1</th>\n",
       "      <td>10</td>\n",
       "      <td>personal</td>\n",
       "      <td>0.014198</td>\n",
       "      <td>0.985802</td>\n",
       "      <td>rick offic mail address mjacobson fce com send...</td>\n",
       "    </tr>\n",
       "    <tr>\n",
       "      <th>2</th>\n",
       "      <td>maildir_allen-p_inbox_23</td>\n",
       "      <td>business</td>\n",
       "      <td>0.998114</td>\n",
       "      <td>0.001886</td>\n",
       "      <td>three deal fax let know interest thank jeff sm...</td>\n",
       "    </tr>\n",
       "    <tr>\n",
       "      <th>3</th>\n",
       "      <td>14</td>\n",
       "      <td>personal</td>\n",
       "      <td>0.018104</td>\n",
       "      <td>0.981896</td>\n",
       "      <td>phone work day great see rick ami ben jonathan...</td>\n",
       "    </tr>\n",
       "    <tr>\n",
       "      <th>4</th>\n",
       "      <td>8</td>\n",
       "      <td>personal</td>\n",
       "      <td>0.033977</td>\n",
       "      <td>0.966023</td>\n",
       "      <td>entrust forward anyon origin messag todd mrien...</td>\n",
       "    </tr>\n",
       "  </tbody>\n",
       "</table>\n",
       "</div>"
      ]
     },
     "execution_count": 277,
     "metadata": {},
     "output_type": "execute_result"
    }
   ],
   "source": [
    "test_df = classify_files_from_folder(test_files_path)\n",
    "test_df"
   ]
  },
  {
   "cell_type": "markdown",
   "metadata": {},
   "source": []
  },
  {
   "cell_type": "code",
   "execution_count": null,
   "metadata": {},
   "outputs": [],
   "source": [
    "test_df.to_csv('/insert_your_path_here/text_class_result.csv', index=False)\n"
   ]
  }
 ],
 "metadata": {
  "kernelspec": {
   "display_name": "Python 2",
   "language": "python",
   "name": "python2"
  },
  "language_info": {
   "codemirror_mode": {
    "name": "ipython",
    "version": 2
   },
   "file_extension": ".py",
   "mimetype": "text/x-python",
   "name": "python",
   "nbconvert_exporter": "python",
   "pygments_lexer": "ipython2",
   "version": "2.7.6"
  }
 },
 "nbformat": 4,
 "nbformat_minor": 0
}
